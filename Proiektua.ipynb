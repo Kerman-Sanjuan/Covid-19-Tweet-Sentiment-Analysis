{
 "cells": [
  {
   "cell_type": "markdown",
   "id": "pressed-script",
   "metadata": {},
   "source": [
    "# WEKA Proiektua\n",
    "Hau da gure WEKA-ko proiektua, Natural lenguage processing-era bideratutakoa. Proiektu hau egiteko, hurrengo pausuak jarraituko ditugu. Gomendatzen da dokumentazioaren aldi berean irakurtzea.\n"
   ]
  },
  {
   "cell_type": "markdown",
   "id": "metropolitan-updating",
   "metadata": {},
   "source": [
    "## Indizea\n",
    "* [Sarrera: Proiektuarena aurkezpena](#sarrera)\n",
    "* [Datuak](#datuak)\n",
    "* [Data pre-processing](#dpr)\n",
    "* [Exploratory Data Analysis](#exploratory)\n",
    "* [Modeloaren sorrera](#model)\n",
    "* [Emaitzak eta eztabaida](#emaitzak)\n",
    "* [Model deployment](#deployment)\n",
    "* [Konklusioa](#conclusion)"
   ]
  },
  {
   "cell_type": "markdown",
   "id": "functioning-bryan",
   "metadata": {},
   "source": [
    "## Sarrera: Proiektuarena aurkezpena <a name=\"sarrera\"></a>"
   ]
  },
  {
   "cell_type": "code",
   "execution_count": 2,
   "id": "fluid-title",
   "metadata": {},
   "outputs": [],
   "source": [
    "import tensorflow as tf\n",
    "import pandas as pd\n",
    "import numpy as np\n",
    "import matplotlib.pyplot as plt\n",
    "import seaborn as sns\n",
    "import missingno as msg"
   ]
  },
  {
   "cell_type": "code",
   "execution_count": null,
   "id": "irish-proof",
   "metadata": {},
   "outputs": [],
   "source": []
  },
  {
   "cell_type": "code",
   "execution_count": null,
   "id": "adapted-surprise",
   "metadata": {},
   "outputs": [],
   "source": []
  },
  {
   "cell_type": "code",
   "execution_count": null,
   "id": "recorded-chest",
   "metadata": {},
   "outputs": [],
   "source": []
  },
  {
   "cell_type": "markdown",
   "id": "coated-latitude",
   "metadata": {},
   "source": [
    "## Datuak <a name=\"datuak\"></a>"
   ]
  },
  {
   "cell_type": "code",
   "execution_count": null,
   "id": "addressed-sandwich",
   "metadata": {},
   "outputs": [],
   "source": []
  },
  {
   "cell_type": "code",
   "execution_count": null,
   "id": "coordinated-assumption",
   "metadata": {},
   "outputs": [],
   "source": []
  },
  {
   "cell_type": "code",
   "execution_count": null,
   "id": "laughing-purse",
   "metadata": {},
   "outputs": [],
   "source": []
  },
  {
   "cell_type": "code",
   "execution_count": null,
   "id": "incorrect-party",
   "metadata": {},
   "outputs": [],
   "source": []
  },
  {
   "cell_type": "code",
   "execution_count": null,
   "id": "joined-dancing",
   "metadata": {},
   "outputs": [],
   "source": []
  },
  {
   "cell_type": "code",
   "execution_count": null,
   "id": "stuck-quantity",
   "metadata": {},
   "outputs": [],
   "source": []
  },
  {
   "cell_type": "markdown",
   "id": "liked-silver",
   "metadata": {},
   "source": [
    "## Datuak <a name=\"dpr\"></a>"
   ]
  },
  {
   "cell_type": "code",
   "execution_count": null,
   "id": "ready-mortality",
   "metadata": {},
   "outputs": [],
   "source": []
  },
  {
   "cell_type": "code",
   "execution_count": null,
   "id": "indian-treat",
   "metadata": {},
   "outputs": [],
   "source": []
  },
  {
   "cell_type": "code",
   "execution_count": null,
   "id": "exceptional-midwest",
   "metadata": {},
   "outputs": [],
   "source": []
  },
  {
   "cell_type": "code",
   "execution_count": null,
   "id": "hindu-organization",
   "metadata": {},
   "outputs": [],
   "source": []
  },
  {
   "cell_type": "code",
   "execution_count": null,
   "id": "bibliographic-missouri",
   "metadata": {},
   "outputs": [],
   "source": []
  },
  {
   "cell_type": "code",
   "execution_count": null,
   "id": "promotional-dinner",
   "metadata": {},
   "outputs": [],
   "source": []
  },
  {
   "cell_type": "code",
   "execution_count": null,
   "id": "expensive-nylon",
   "metadata": {},
   "outputs": [],
   "source": []
  },
  {
   "cell_type": "code",
   "execution_count": null,
   "id": "female-monitoring",
   "metadata": {},
   "outputs": [],
   "source": []
  },
  {
   "cell_type": "code",
   "execution_count": null,
   "id": "communist-documentary",
   "metadata": {},
   "outputs": [],
   "source": []
  },
  {
   "cell_type": "code",
   "execution_count": null,
   "id": "critical-franchise",
   "metadata": {},
   "outputs": [],
   "source": []
  },
  {
   "cell_type": "code",
   "execution_count": null,
   "id": "wrapped-purple",
   "metadata": {},
   "outputs": [],
   "source": []
  },
  {
   "cell_type": "code",
   "execution_count": null,
   "id": "julian-rolling",
   "metadata": {},
   "outputs": [],
   "source": []
  },
  {
   "cell_type": "code",
   "execution_count": null,
   "id": "early-plumbing",
   "metadata": {},
   "outputs": [],
   "source": []
  },
  {
   "cell_type": "code",
   "execution_count": null,
   "id": "criminal-consortium",
   "metadata": {},
   "outputs": [],
   "source": []
  },
  {
   "cell_type": "code",
   "execution_count": null,
   "id": "creative-collar",
   "metadata": {},
   "outputs": [],
   "source": []
  }
 ],
 "metadata": {
  "kernelspec": {
   "display_name": "Python 3",
   "language": "python",
   "name": "python3"
  },
  "language_info": {
   "codemirror_mode": {
    "name": "ipython",
    "version": 3
   },
   "file_extension": ".py",
   "mimetype": "text/x-python",
   "name": "python",
   "nbconvert_exporter": "python",
   "pygments_lexer": "ipython3",
   "version": "3.8.5"
  }
 },
 "nbformat": 4,
 "nbformat_minor": 5
}
