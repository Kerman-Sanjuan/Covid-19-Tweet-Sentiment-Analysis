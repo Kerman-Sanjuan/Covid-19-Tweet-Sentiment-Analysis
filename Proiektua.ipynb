{
 "cells": [
  {
   "cell_type": "markdown",
   "id": "horizontal-accreditation",
   "metadata": {},
   "source": [
    "# WEKA Proiektua\n",
    "Hau da gure WEKA-ko proiektua, Natural lenguage processing-era bideratutakoa. Proiektu hau egiteko, hurrengo pausuak jarraituko ditugu. Gomendatzen da dokumentazioaren aldi berean irakurtzea.\n"
   ]
  },
  {
   "cell_type": "markdown",
   "id": "integral-saint",
   "metadata": {},
   "source": [
    "## Indizea\n",
    "* [Sarrera: Proiektuarena aurkezpena](#sarrera)\n",
    "* [Datuak](#datuak)\n",
    "* [Data pre-processing](#dpr)\n",
    "* [Exploratory Data Analysis](#exploratory)\n",
    "* [Modeloaren sorrera](#model)\n",
    "* [Emaitzak eta eztabaida](#emaitzak)\n",
    "* [Model deployment](#deployment)\n",
    "* [Konklusioa](#conclusion)"
   ]
  },
  {
   "cell_type": "markdown",
   "id": "informed-round",
   "metadata": {},
   "source": [
    "## Sarrera: Proiektuarena aurkezpena <a name=\"sarrera\"></a>"
   ]
  },
  {
   "cell_type": "code",
   "execution_count": null,
   "id": "backed-escape",
   "metadata": {},
   "outputs": [],
   "source": []
  }
 ],
 "metadata": {
  "kernelspec": {
   "display_name": "Python 3",
   "language": "python",
   "name": "python3"
  },
  "language_info": {
   "codemirror_mode": {
    "name": "ipython",
    "version": 3
   },
   "file_extension": ".py",
   "mimetype": "text/x-python",
   "name": "python",
   "nbconvert_exporter": "python",
   "pygments_lexer": "ipython3",
   "version": "3.8.5"
  }
 },
 "nbformat": 4,
 "nbformat_minor": 5
}
