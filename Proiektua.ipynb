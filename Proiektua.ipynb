{
 "cells": [
  {
   "cell_type": "markdown",
   "id": "piano-plumbing",
   "metadata": {},
   "source": [
    "# WEKA Proiektua\n",
    "Hau da gure WEKA-ko proiektua, Natural lenguage processing-era bideratutakoa. Proiektu hau egiteko, hurrengo pausuak jarraituko ditugu. Gomendatzen da dokumentazioaren aldi berean irakurtzea.\n"
   ]
  },
  {
   "cell_type": "markdown",
   "id": "compliant-november",
   "metadata": {},
   "source": [
    "## Indizea\n",
    "* [Sarrera: Proiektuarena aurkezpena](#sarrera)\n",
    "* [Datuak](#datuak)\n",
    "* [Data pre-processing](#dpr)\n",
    "* [Exploratory Data Analysis](#exploratory)\n",
    "* [Modeloaren sorrera](#model)\n",
    "* [Emaitzak eta eztabaida](#emaitzak)\n",
    "* [Model deployment](#deployment)\n",
    "* [Konklusioa](#conclusion)"
   ]
  },
  {
   "cell_type": "markdown",
   "id": "reported-gambling",
   "metadata": {},
   "source": [
    "## Sarrera: Proiektuarena aurkezpena <a name=\"sarrera\"></a>"
   ]
  },
  {
   "cell_type": "code",
   "execution_count": 5,
   "id": "regulation-authority",
   "metadata": {},
   "outputs": [],
   "source": [
    "import tensorflow as tf\n",
    "import pandas as pd\n",
    "import numpy as np\n",
    "import matplotlib.pyplot as plt\n",
    "import seaborn as sns\n",
    "import missingno as msg"
   ]
  },
  {
   "cell_type": "code",
   "execution_count": null,
   "id": "cultural-tiger",
   "metadata": {},
   "outputs": [],
   "source": [
    "    "
   ]
  },
  {
   "cell_type": "code",
   "execution_count": null,
   "id": "ordinary-person",
   "metadata": {},
   "outputs": [],
   "source": []
  },
  {
   "cell_type": "code",
   "execution_count": null,
   "id": "antique-somalia",
   "metadata": {},
   "outputs": [],
   "source": []
  },
  {
   "cell_type": "markdown",
   "id": "metallic-florist",
   "metadata": {},
   "source": [
    "## Datuak <a name=\"datuak\"></a>"
   ]
  },
  {
   "cell_type": "code",
   "execution_count": null,
   "id": "boxed-report",
   "metadata": {},
   "outputs": [],
   "source": []
  },
  {
   "cell_type": "code",
   "execution_count": null,
   "id": "divine-french",
   "metadata": {},
   "outputs": [],
   "source": []
  },
  {
   "cell_type": "code",
   "execution_count": null,
   "id": "smaller-access",
   "metadata": {},
   "outputs": [],
   "source": []
  },
  {
   "cell_type": "code",
   "execution_count": null,
   "id": "thirty-alexandria",
   "metadata": {},
   "outputs": [],
   "source": []
  },
  {
   "cell_type": "code",
   "execution_count": null,
   "id": "younger-ferry",
   "metadata": {},
   "outputs": [],
   "source": []
  },
  {
   "cell_type": "code",
   "execution_count": null,
   "id": "usual-central",
   "metadata": {},
   "outputs": [],
   "source": []
  },
  {
   "cell_type": "markdown",
   "id": "attended-greensboro",
   "metadata": {},
   "source": [
    "## Datuak <a name=\"dpr\"></a>"
   ]
  },
  {
   "cell_type": "code",
   "execution_count": null,
   "id": "constant-jonathan",
   "metadata": {},
   "outputs": [],
   "source": []
  },
  {
   "cell_type": "code",
   "execution_count": null,
   "id": "involved-pound",
   "metadata": {},
   "outputs": [],
   "source": []
  },
  {
   "cell_type": "code",
   "execution_count": null,
   "id": "seventh-observation",
   "metadata": {},
   "outputs": [],
   "source": []
  },
  {
   "cell_type": "code",
   "execution_count": null,
   "id": "synthetic-biology",
   "metadata": {},
   "outputs": [],
   "source": []
  },
  {
   "cell_type": "code",
   "execution_count": null,
   "id": "meaningful-support",
   "metadata": {},
   "outputs": [],
   "source": []
  },
  {
   "cell_type": "code",
   "execution_count": null,
   "id": "chemical-office",
   "metadata": {},
   "outputs": [],
   "source": []
  },
  {
   "cell_type": "code",
   "execution_count": null,
   "id": "reserved-helen",
   "metadata": {},
   "outputs": [],
   "source": []
  },
  {
   "cell_type": "code",
   "execution_count": null,
   "id": "junior-figure",
   "metadata": {},
   "outputs": [],
   "source": []
  },
  {
   "cell_type": "code",
   "execution_count": null,
   "id": "boolean-template",
   "metadata": {},
   "outputs": [],
   "source": []
  },
  {
   "cell_type": "code",
   "execution_count": null,
   "id": "latin-dublin",
   "metadata": {},
   "outputs": [],
   "source": []
  },
  {
   "cell_type": "code",
   "execution_count": null,
   "id": "affiliated-partition",
   "metadata": {},
   "outputs": [],
   "source": []
  },
  {
   "cell_type": "code",
   "execution_count": null,
   "id": "vocal-prefix",
   "metadata": {},
   "outputs": [],
   "source": []
  },
  {
   "cell_type": "code",
   "execution_count": null,
   "id": "invalid-active",
   "metadata": {},
   "outputs": [],
   "source": []
  },
  {
   "cell_type": "code",
   "execution_count": null,
   "id": "official-preservation",
   "metadata": {},
   "outputs": [],
   "source": []
  },
  {
   "cell_type": "code",
   "execution_count": null,
   "id": "unlimited-relation",
   "metadata": {},
   "outputs": [],
   "source": []
  }
 ],
 "metadata": {
  "kernelspec": {
   "display_name": "Python 3",
   "language": "python",
   "name": "python3"
  },
  "language_info": {
   "codemirror_mode": {
    "name": "ipython",
    "version": 3
   },
   "file_extension": ".py",
   "mimetype": "text/x-python",
   "name": "python",
   "nbconvert_exporter": "python",
   "pygments_lexer": "ipython3",
   "version": "3.8.5"
  }
 },
 "nbformat": 4,
 "nbformat_minor": 5
}
