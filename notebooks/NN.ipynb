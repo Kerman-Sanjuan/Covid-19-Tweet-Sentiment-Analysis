{
 "cells": [
  {
   "cell_type": "code",
   "execution_count": 76,
   "id": "legal-logan",
   "metadata": {},
   "outputs": [],
   "source": [
    "import pandas as pd\n",
    "import numpy as np\n",
    "from sklearn.metrics import make_scorer, accuracy_score, precision_score, recall_score, f1_score\n",
    "from sklearn.metrics import classification_report\n",
    "pd.options.mode.chained_assignment = None \n",
    "from sklearn.feature_selection import SelectKBest\n",
    "from sklearn.feature_selection import f_classif\n",
    "import matplotlib.pyplot as plt\n",
    "import seaborn as sns\n",
    "import missingno as msg\n",
    "import string\n",
    "from sklearn.metrics import classification_report\n",
    "from sklearn.model_selection import cross_val_predict\n",
    "from sklearn.model_selection import KFold\n",
    "from sklearn.model_selection import cross_val_score\n",
    "import re\n",
    "import nltk\n",
    "from sklearn.model_selection import train_test_split\n",
    "from spellchecker import SpellChecker\n",
    "from nltk.corpus import stopwords\n",
    "from sklearn.feature_extraction.text import TfidfVectorizer\n",
    "from sklearn.linear_model import LogisticRegression\n",
    "from sklearn.metrics import confusion_matrix\n",
    "from sklearn import metrics\n",
    "from sklearn import preprocessing\n",
    "from collections import Counter\n",
    "from wordcloud import WordCloud\n",
    "from nltk.stem import WordNetLemmatizer\n",
    "from imageio import imread\n",
    "import tensorflow as tf\n",
    "from keras.models import Sequential\n",
    "from keras.layers import Dense\n",
    "from tensorflow import keras"
   ]
  },
  {
   "cell_type": "code",
   "execution_count": 77,
   "id": "tired-arthritis",
   "metadata": {},
   "outputs": [],
   "source": [
    "df = pd.read_csv(\"../csv/best_attr.csv\")\n",
    "X = df.drop('Sentiment', axis=1)\n",
    "y = df[\"Sentiment\"]\n",
    "\n"
   ]
  },
  {
   "cell_type": "code",
   "execution_count": 78,
   "id": "classical-drunk",
   "metadata": {},
   "outputs": [
    {
     "data": {
      "text/plain": [
       "(41157, 1501)"
      ]
     },
     "execution_count": 78,
     "metadata": {},
     "output_type": "execute_result"
    }
   ],
   "source": [
    "df.shape"
   ]
  },
  {
   "cell_type": "code",
   "execution_count": 80,
   "id": "anonymous-jewel",
   "metadata": {},
   "outputs": [],
   "source": [
    "from sklearn.model_selection import train_test_split\n",
    "X_train,X_test,y_train,y_test = train_test_split(X,y,test_size = 0.1)\n",
    "y_train = tf.keras.utils.to_categorical(y_train, 3)\n",
    "y_test = tf.keras.utils.to_categorical(y_test, 3)"
   ]
  },
  {
   "cell_type": "code",
   "execution_count": 81,
   "id": "speaking-vulnerability",
   "metadata": {},
   "outputs": [],
   "source": [
    "from keras.models import Sequential\n",
    "from keras.layers import Dense\n"
   ]
  },
  {
   "cell_type": "code",
   "execution_count": 88,
   "id": "manual-relations",
   "metadata": {},
   "outputs": [],
   "source": [
    "model = Sequential()\n",
    "model.add(Dense(1500,input_dim=1500, activation='relu'))\n",
    "model.add(Dense(400, activation='relu'))\n",
    "model.add(Dense(400, activation='relu'))\n",
    "model.add(Dense(400, activation='relu'))\n",
    "model.add(Dense(3, activation='sigmoid'))"
   ]
  },
  {
   "cell_type": "code",
   "execution_count": 89,
   "id": "voluntary-seven",
   "metadata": {},
   "outputs": [],
   "source": [
    "model.compile(loss='categorical_crossentropy', metrics=['accuracy'])"
   ]
  },
  {
   "cell_type": "code",
   "execution_count": 90,
   "id": "indirect-captain",
   "metadata": {},
   "outputs": [
    {
     "name": "stdout",
     "output_type": "stream",
     "text": [
      "Epoch 1/10\n",
      "579/579 [==============================] - 17s 29ms/step - loss: 0.7300 - accuracy: 0.6795\n",
      "Epoch 2/10\n",
      "579/579 [==============================] - 17s 29ms/step - loss: 0.4688 - accuracy: 0.8387\n",
      "Epoch 3/10\n",
      "579/579 [==============================] - 18s 31ms/step - loss: 0.3936 - accuracy: 0.8676\n",
      "Epoch 4/10\n",
      "579/579 [==============================] - 19s 33ms/step - loss: 0.3173 - accuracy: 0.8942\n",
      "Epoch 5/10\n",
      "579/579 [==============================] - 18s 31ms/step - loss: 0.2210 - accuracy: 0.9283\n",
      "Epoch 6/10\n",
      "579/579 [==============================] - 17s 29ms/step - loss: 0.1576 - accuracy: 0.9489\n",
      "Epoch 7/10\n",
      "579/579 [==============================] - 17s 30ms/step - loss: 0.1188 - accuracy: 0.9620\n",
      "Epoch 8/10\n",
      "579/579 [==============================] - 17s 30ms/step - loss: 0.0912 - accuracy: 0.9717\n",
      "Epoch 9/10\n",
      "579/579 [==============================] - 17s 30ms/step - loss: 0.0808 - accuracy: 0.9763\n",
      "Epoch 10/10\n",
      "579/579 [==============================] - 17s 30ms/step - loss: 0.0674 - accuracy: 0.9799\n"
     ]
    }
   ],
   "source": [
    "history = model.fit(X_train, y_train, epochs=10, batch_size=64)"
   ]
  },
  {
   "cell_type": "code",
   "execution_count": 92,
   "id": "dried-documentary",
   "metadata": {},
   "outputs": [],
   "source": [
    "y_hat = model.predict(X_test)"
   ]
  },
  {
   "cell_type": "code",
   "execution_count": 93,
   "id": "brave-fleet",
   "metadata": {},
   "outputs": [],
   "source": [
    "y_pred = model.predict(X_test)\n",
    "#Converting predictions to label\n",
    "pred = list()\n",
    "for i in range(len(y_pred)):\n",
    "    pred.append(np.argmax(y_pred[i]))\n",
    "#Converting one hot encoded test label to label\n",
    "test = list()\n",
    "for i in range(len(y_test)):\n",
    "    test.append(np.argmax(y_test[i]))\n"
   ]
  },
  {
   "cell_type": "code",
   "execution_count": 94,
   "id": "chinese-terminal",
   "metadata": {},
   "outputs": [
    {
     "name": "stdout",
     "output_type": "stream",
     "text": [
      "Accuracy is: 80.36929057337221\n"
     ]
    }
   ],
   "source": [
    "from sklearn.metrics import accuracy_score\n",
    "a = accuracy_score(pred,test)\n",
    "print('Accuracy is:', a*100)"
   ]
  },
  {
   "cell_type": "code",
   "execution_count": null,
   "id": "sitting-tourist",
   "metadata": {},
   "outputs": [],
   "source": []
  }
 ],
 "metadata": {
  "kernelspec": {
   "display_name": "Python 3",
   "language": "python",
   "name": "python3"
  },
  "language_info": {
   "codemirror_mode": {
    "name": "ipython",
    "version": 3
   },
   "file_extension": ".py",
   "mimetype": "text/x-python",
   "name": "python",
   "nbconvert_exporter": "python",
   "pygments_lexer": "ipython3",
   "version": "3.8.5"
  }
 },
 "nbformat": 4,
 "nbformat_minor": 5
}
