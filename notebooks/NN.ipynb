{
 "cells": [
  {
   "cell_type": "code",
   "execution_count": 2,
   "id": "related-maximum",
   "metadata": {},
   "outputs": [],
   "source": [
    "import pandas as pd\n",
    "import numpy as np\n",
    "from sklearn.metrics import make_scorer, accuracy_score, precision_score, recall_score, f1_score\n",
    "from sklearn.metrics import classification_report\n",
    "pd.options.mode.chained_assignment = None \n",
    "from sklearn.feature_selection import SelectKBest\n",
    "from sklearn.feature_selection import f_classif\n",
    "import matplotlib.pyplot as plt\n",
    "import seaborn as sns\n",
    "import missingno as msg\n",
    "import string\n",
    "from sklearn.metrics import classification_report\n",
    "from sklearn.model_selection import cross_val_predict\n",
    "from sklearn.model_selection import KFold\n",
    "from sklearn.model_selection import cross_val_score\n",
    "import re\n",
    "import nltk\n",
    "from sklearn.model_selection import train_test_split\n",
    "from spellchecker import SpellChecker\n",
    "from nltk.corpus import stopwords\n",
    "from sklearn.feature_extraction.text import TfidfVectorizer\n",
    "from sklearn.linear_model import LogisticRegression\n",
    "from sklearn.metrics import confusion_matrix\n",
    "from sklearn import metrics\n",
    "from sklearn import preprocessing\n",
    "from collections import Counter\n",
    "from wordcloud import WordCloud\n",
    "from nltk.stem import WordNetLemmatizer\n",
    "from imageio import imread\n",
    "import tensorflow as tf\n",
    "from keras.models import Sequential\n",
    "from keras.layers import Dense\n",
    "from tensorflow import keras"
   ]
  },
  {
   "cell_type": "code",
   "execution_count": 108,
   "id": "supposed-litigation",
   "metadata": {},
   "outputs": [],
   "source": [
    "df = pd.read_csv(\"../csv/little.csv\")\n",
    "X = df.drop('Sentiment', axis=1)\n",
    "y = df[\"Sentiment\"]\n",
    "\n"
   ]
  },
  {
   "cell_type": "code",
   "execution_count": 109,
   "id": "balanced-immune",
   "metadata": {},
   "outputs": [
    {
     "data": {
      "text/plain": [
       "(41157, 1001)"
      ]
     },
     "execution_count": 109,
     "metadata": {},
     "output_type": "execute_result"
    }
   ],
   "source": [
    "df.shape"
   ]
  },
  {
   "cell_type": "code",
   "execution_count": 137,
   "id": "related-admission",
   "metadata": {},
   "outputs": [],
   "source": [
    "from sklearn.model_selection import train_test_split\n",
    "X_train,X_test,y_train,y_test = train_test_split(X,y,test_size = 0.1)\n",
    "y_train = tf.keras.utils.to_categorical(y_train, 3)\n",
    "y_test = tf.keras.utils.to_categorical(y_test, 3)"
   ]
  },
  {
   "cell_type": "code",
   "execution_count": 138,
   "id": "current-newark",
   "metadata": {},
   "outputs": [],
   "source": [
    "from keras.models import Sequential\n",
    "from keras.layers import Dense\n"
   ]
  },
  {
   "cell_type": "code",
   "execution_count": 151,
   "id": "binary-present",
   "metadata": {},
   "outputs": [],
   "source": [
    "model = Sequential()\n",
    "model.add(Dense(1000,input_dim=1000, activation='elu'))\n",
    "model.add(Dense(800, activation='selu'))\n",
    "model.add(Dense(500, activation='selu'))\n",
    "model.add(Dense(500, activation='selu'))\n",
    "model.add(Dense(250, activation='selu'))\n",
    "model.add(Dense(100, activation='selu'))\n",
    "model.add(Dense(3, activation='softmax'))\n",
    "model.compile(loss='categorical_crossentropy',optimizer= \"nadam\",metrics=['accuracy'])"
   ]
  },
  {
   "cell_type": "code",
   "execution_count": null,
   "id": "quantitative-bridal",
   "metadata": {},
   "outputs": [],
   "source": []
  },
  {
   "cell_type": "code",
   "execution_count": 152,
   "id": "whole-morrison",
   "metadata": {},
   "outputs": [
    {
     "name": "stdout",
     "output_type": "stream",
     "text": [
      "Epoch 1/5\n",
      "1158/1158 [==============================] - 37s 31ms/step - loss: 0.7725 - accuracy: 0.6714\n",
      "Epoch 2/5\n",
      "1158/1158 [==============================] - 39s 33ms/step - loss: 0.5758 - accuracy: 0.7904\n",
      "Epoch 3/5\n",
      "1158/1158 [==============================] - 39s 34ms/step - loss: 0.5488 - accuracy: 0.8041\n",
      "Epoch 4/5\n",
      "1158/1158 [==============================] - 38s 33ms/step - loss: 0.5236 - accuracy: 0.81240s - loss:\n",
      "Epoch 5/5\n",
      "1158/1158 [==============================] - 37s 32ms/step - loss: 0.5182 - accuracy: 0.8151\n"
     ]
    }
   ],
   "source": [
    "history = model.fit(X_train, y_train, epochs=5,batch_size=32)"
   ]
  },
  {
   "cell_type": "code",
   "execution_count": 153,
   "id": "alert-republican",
   "metadata": {},
   "outputs": [],
   "source": [
    "y_hat = model.predict(X_test)"
   ]
  },
  {
   "cell_type": "code",
   "execution_count": 154,
   "id": "multiple-sampling",
   "metadata": {},
   "outputs": [],
   "source": [
    "y_pred = model.predict(X_test)\n",
    "#Converting predictions to label\n",
    "pred = list()\n",
    "for i in range(len(y_pred)):\n",
    "    pred.append(np.argmax(y_pred[i]))\n",
    "#Converting one hot encoded test label to label\n",
    "test = list()\n",
    "for i in range(len(y_test)):\n",
    "    test.append(np.argmax(y_test[i]))\n"
   ]
  },
  {
   "cell_type": "code",
   "execution_count": 155,
   "id": "vietnamese-straight",
   "metadata": {},
   "outputs": [
    {
     "name": "stdout",
     "output_type": "stream",
     "text": [
      "Accuracy is: 81.19533527696792\n",
      "NN-F1 score 0.8105545791855464\n"
     ]
    }
   ],
   "source": [
    "from sklearn.metrics import accuracy_score\n",
    "a = accuracy_score(pred,test)\n",
    "print('Accuracy is:', a*100)\n",
    "print(\"NN-F1 score\",metrics.f1_score(pred, test,average='weighted'))"
   ]
  },
  {
   "cell_type": "raw",
   "id": "familiar-manual",
   "metadata": {},
   "source": [
    "model = Sequential()\n",
    "model.add(Dense(1500,input_dim=1500, activation='relu'))\n",
    "model.add(Dense(400, activation='selu'))\n",
    "model.add(Dense(400, activation='selu'))\n",
    "model.add(Dense(400, activation='selu'))\n",
    "model.add(Dense(3, activation='softmax'))\n",
    "model.compile(loss='categorical_crossentropy', optimizer= \"nadam\",metrics=['accuracy'])\n",
    "\n",
    "\n",
    "Accuracy is: 81.4625850340136\n",
    "NN-F1 score 0.8148325055038362\n",
    "\n",
    "------------------------------- \n",
    "\n",
    "model = Sequential()\n",
    "model.add(Dense(1500,input_dim=1500, activation='relu'))\n",
    "model.add(Dense(700, activation='selu'))\n",
    "model.add(Dense(400, activation='selu'))\n",
    "model.add(Dense(200, activation='selu'))\n",
    "model.add(Dense(3, activation='softmax'))\n",
    "model.compile(loss='categorical_crossentropy', optimizer= \"nadam\",metrics=['accuracy'])\n",
    "\n",
    "\n",
    "Accuracy is: 81.4868804664723\n",
    "NN-F1 score 0.8154121496686333\n",
    "\n",
    "\n",
    "\n",
    "-------------------------------  MENOS ATRIBUTOS\n",
    "\n",
    "model = Sequential()\n",
    "model.add(Dense(500,input_dim=1000, activation='elu'))\n",
    "model.add(Dense(300, activation='selu'))\n",
    "model.add(Dense(300, activation='selu'))\n",
    "model.add(Dense(200, activation='selu'))\n",
    "model.add(Dense(100, activation='selu'))\n",
    "model.add(Dense(3, activation='softmax'))\n",
    "model.compile(loss='categorical_crossentropy', optimizer= \"adam\",metrics=['accuracy'])\n",
    "\n",
    "Accuracy is: 81.5354713313897\n",
    "NN-F1 score 0.8145211257605111"
   ]
  },
  {
   "cell_type": "code",
   "execution_count": null,
   "id": "difficult-consultation",
   "metadata": {},
   "outputs": [],
   "source": []
  }
 ],
 "metadata": {
  "kernelspec": {
   "display_name": "Python 3",
   "language": "python",
   "name": "python3"
  },
  "language_info": {
   "codemirror_mode": {
    "name": "ipython",
    "version": 3
   },
   "file_extension": ".py",
   "mimetype": "text/x-python",
   "name": "python",
   "nbconvert_exporter": "python",
   "pygments_lexer": "ipython3",
   "version": "3.8.5"
  }
 },
 "nbformat": 4,
 "nbformat_minor": 5
}
