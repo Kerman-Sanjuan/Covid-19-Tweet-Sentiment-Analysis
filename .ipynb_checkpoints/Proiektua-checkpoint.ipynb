{
 "cells": [
  {
   "cell_type": "markdown",
   "id": "insured-norway",
   "metadata": {},
   "source": [
    "# WEKA Proiektua\n",
    "Hau da gure WEKA-ko proiektua, Natural lenguage processing-era bideratutakoa. Proiektu hau egiteko, hurrengo pausuak jarraituko ditugu. Gomendatzen da dokumentazioaren aldi berean irakurtzea.\n"
   ]
  },
  {
   "cell_type": "markdown",
   "id": "native-article",
   "metadata": {},
   "source": [
    "## Indizea\n",
    "* [Sarrera: Proiektuarena aurkezpena](#sarrera)\n",
    "* [Datuak](#datuak)\n",
    "* [Data pre-processing](#dpr)\n",
    "* [Exploratory Data Analysis](#exploratory)\n",
    "* [Modeloaren sorrera](#model)\n",
    "* [Emaitzak eta eztabaida](#emaitzak)\n",
    "* [Model deployment](#deployment)\n",
    "* [Konklusioa](#conclusion)"
   ]
  },
  {
   "cell_type": "markdown",
   "id": "physical-cooling",
   "metadata": {},
   "source": [
    "## Sarrera: Proiektuarena aurkezpena <a name=\"sarrera\"></a>"
   ]
  },
  {
   "cell_type": "code",
   "execution_count": 1,
   "id": "rapid-metallic",
   "metadata": {},
   "outputs": [],
   "source": [
    "import tensorflow as tf\n",
    "import pandas as pd\n",
    "import numpy as np\n",
    "import matplotlib.pyplot as plt\n",
    "import seaborn as sns\n",
    "import missingno as msg"
   ]
  },
  {
   "cell_type": "code",
   "execution_count": 2,
   "id": "activated-culture",
   "metadata": {},
   "outputs": [
    {
     "name": "stdout",
     "output_type": "stream",
     "text": [
      "Hola mundo\n"
     ]
    }
   ],
   "source": [
    "tf.print(\"Hola mundo\")"
   ]
  },
  {
   "cell_type": "code",
   "execution_count": null,
   "id": "spiritual-hands",
   "metadata": {},
   "outputs": [],
   "source": []
  },
  {
   "cell_type": "code",
   "execution_count": null,
   "id": "middle-writing",
   "metadata": {},
   "outputs": [],
   "source": []
  },
  {
   "cell_type": "markdown",
   "id": "neither-working",
   "metadata": {},
   "source": [
    "## Datuak <a name=\"datuak\"></a>"
   ]
  },
  {
   "cell_type": "code",
   "execution_count": null,
   "id": "parallel-london",
   "metadata": {},
   "outputs": [],
   "source": []
  },
  {
   "cell_type": "code",
   "execution_count": null,
   "id": "numeric-apache",
   "metadata": {},
   "outputs": [],
   "source": []
  },
  {
   "cell_type": "code",
   "execution_count": null,
   "id": "social-bronze",
   "metadata": {},
   "outputs": [],
   "source": []
  },
  {
   "cell_type": "code",
   "execution_count": null,
   "id": "incorporate-advocate",
   "metadata": {},
   "outputs": [],
   "source": []
  },
  {
   "cell_type": "code",
   "execution_count": null,
   "id": "tracked-corporation",
   "metadata": {},
   "outputs": [],
   "source": []
  },
  {
   "cell_type": "code",
   "execution_count": null,
   "id": "awful-spiritual",
   "metadata": {},
   "outputs": [],
   "source": []
  },
  {
   "cell_type": "markdown",
   "id": "christian-packet",
   "metadata": {},
   "source": [
    "## Datuak <a name=\"dpr\"></a>"
   ]
  },
  {
   "cell_type": "code",
   "execution_count": null,
   "id": "unknown-dylan",
   "metadata": {},
   "outputs": [],
   "source": []
  },
  {
   "cell_type": "code",
   "execution_count": null,
   "id": "behavioral-settle",
   "metadata": {},
   "outputs": [],
   "source": []
  },
  {
   "cell_type": "code",
   "execution_count": null,
   "id": "daily-longer",
   "metadata": {},
   "outputs": [],
   "source": []
  },
  {
   "cell_type": "code",
   "execution_count": null,
   "id": "strange-consolidation",
   "metadata": {},
   "outputs": [],
   "source": []
  },
  {
   "cell_type": "code",
   "execution_count": null,
   "id": "political-evidence",
   "metadata": {},
   "outputs": [],
   "source": []
  },
  {
   "cell_type": "code",
   "execution_count": null,
   "id": "jewish-medicare",
   "metadata": {},
   "outputs": [],
   "source": []
  },
  {
   "cell_type": "code",
   "execution_count": null,
   "id": "appreciated-criticism",
   "metadata": {},
   "outputs": [],
   "source": []
  },
  {
   "cell_type": "code",
   "execution_count": null,
   "id": "public-arthritis",
   "metadata": {},
   "outputs": [],
   "source": []
  },
  {
   "cell_type": "code",
   "execution_count": null,
   "id": "willing-puppy",
   "metadata": {},
   "outputs": [],
   "source": []
  },
  {
   "cell_type": "code",
   "execution_count": null,
   "id": "circular-portal",
   "metadata": {},
   "outputs": [],
   "source": []
  },
  {
   "cell_type": "code",
   "execution_count": null,
   "id": "increasing-morocco",
   "metadata": {},
   "outputs": [],
   "source": []
  },
  {
   "cell_type": "code",
   "execution_count": null,
   "id": "absent-brief",
   "metadata": {},
   "outputs": [],
   "source": []
  },
  {
   "cell_type": "code",
   "execution_count": null,
   "id": "systematic-wisconsin",
   "metadata": {},
   "outputs": [],
   "source": []
  },
  {
   "cell_type": "code",
   "execution_count": null,
   "id": "prospective-gallery",
   "metadata": {},
   "outputs": [],
   "source": []
  },
  {
   "cell_type": "code",
   "execution_count": null,
   "id": "breeding-pizza",
   "metadata": {},
   "outputs": [],
   "source": []
  }
 ],
 "metadata": {
  "kernelspec": {
   "display_name": "Python 3",
   "language": "python",
   "name": "python3"
  },
  "language_info": {
   "codemirror_mode": {
    "name": "ipython",
    "version": 3
   },
   "file_extension": ".py",
   "mimetype": "text/x-python",
   "name": "python",
   "nbconvert_exporter": "python",
   "pygments_lexer": "ipython3",
   "version": "3.8.5"
  }
 },
 "nbformat": 4,
 "nbformat_minor": 5
}
